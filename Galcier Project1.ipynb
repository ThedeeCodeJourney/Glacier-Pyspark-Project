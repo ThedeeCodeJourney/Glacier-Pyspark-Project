{
 "cells": [
  {
   "cell_type": "code",
   "execution_count": 0,
   "metadata": {
    "application/vnd.databricks.v1+cell": {
     "cellMetadata": {
      "byteLimit": 2048000,
      "rowLimit": 10000
     },
     "inputWidgets": {},
     "nuid": "7796deb6-edef-498b-8a52-c000590d9bce",
     "showTitle": false,
     "title": ""
    }
   },
   "outputs": [],
   "source": [
    "df = spark.read.option(\"header\",'true')\\\n",
    "    .option(\"inferschema\",'true')\\\n",
    "    .csv('dbfs:/FileStore/shared_uploads/deeptidongare@gmail.com/glaciers.csv')"
   ]
  },
  {
   "cell_type": "code",
   "execution_count": 0,
   "metadata": {
    "application/vnd.databricks.v1+cell": {
     "cellMetadata": {
      "byteLimit": 2048000,
      "rowLimit": 10000
     },
     "inputWidgets": {},
     "nuid": "54befa9b-0ee2-4ee9-bfb8-3878c50da042",
     "showTitle": false,
     "title": ""
    }
   },
   "outputs": [
    {
     "output_type": "display_data",
     "data": {
      "text/html": [
       "<style scoped>\n",
       "  .table-result-container {\n",
       "    max-height: 300px;\n",
       "    overflow: auto;\n",
       "  }\n",
       "  table, th, td {\n",
       "    border: 1px solid black;\n",
       "    border-collapse: collapse;\n",
       "  }\n",
       "  th, td {\n",
       "    padding: 5px;\n",
       "  }\n",
       "  th {\n",
       "    text-align: left;\n",
       "  }\n",
       "</style><div class='table-result-container'><table class='table-result'><thead style='background-color: white'><tr><th>Year</th><th>Mean cumulative mass balance</th><th>Number of observations</th></tr></thead><tbody><tr><td>1945</td><td>0.0</td><td>null</td></tr><tr><td>1946</td><td>-1.13</td><td>1</td></tr><tr><td>1947</td><td>-3.19</td><td>1</td></tr><tr><td>1948</td><td>-3.19</td><td>1</td></tr><tr><td>1949</td><td>-3.82</td><td>3</td></tr><tr><td>1950</td><td>-4.887</td><td>3</td></tr><tr><td>1951</td><td>-5.217</td><td>3</td></tr><tr><td>1952</td><td>-5.707</td><td>3</td></tr><tr><td>1953</td><td>-6.341</td><td>7</td></tr><tr><td>1954</td><td>-6.825</td><td>6</td></tr><tr><td>1955</td><td>-6.575</td><td>7</td></tr><tr><td>1956</td><td>-6.814</td><td>7</td></tr><tr><td>1957</td><td>-6.989</td><td>9</td></tr><tr><td>1958</td><td>-7.693</td><td>9</td></tr><tr><td>1959</td><td>-8.325</td><td>11</td></tr><tr><td>1960</td><td>-8.688</td><td>14</td></tr><tr><td>1961</td><td>-8.935</td><td>15</td></tr><tr><td>1962</td><td>-9.109</td><td>20</td></tr><tr><td>1963</td><td>-9.567</td><td>22</td></tr><tr><td>1964</td><td>-9.699</td><td>22</td></tr><tr><td>1965</td><td>-9.298</td><td>24</td></tr><tr><td>1966</td><td>-9.436</td><td>27</td></tr><tr><td>1967</td><td>-9.303</td><td>29</td></tr><tr><td>1968</td><td>-9.219</td><td>31</td></tr><tr><td>1969</td><td>-9.732</td><td>31</td></tr><tr><td>1970</td><td>-10.128</td><td>32</td></tr><tr><td>1971</td><td>-10.288</td><td>32</td></tr><tr><td>1972</td><td>-10.441</td><td>32</td></tr><tr><td>1973</td><td>-10.538</td><td>32</td></tr><tr><td>1974</td><td>-10.613</td><td>32</td></tr><tr><td>1975</td><td>-10.534</td><td>33</td></tr><tr><td>1976</td><td>-10.633</td><td>35</td></tr><tr><td>1977</td><td>-10.682</td><td>37</td></tr><tr><td>1978</td><td>-10.754</td><td>37</td></tr><tr><td>1979</td><td>-11.127</td><td>37</td></tr><tr><td>1980</td><td>-11.318</td><td>36</td></tr><tr><td>1981</td><td>-11.394</td><td>35</td></tr><tr><td>1982</td><td>-11.849</td><td>36</td></tr><tr><td>1983</td><td>-11.846</td><td>37</td></tr><tr><td>1984</td><td>-11.902</td><td>37</td></tr><tr><td>1985</td><td>-12.238</td><td>37</td></tr><tr><td>1986</td><td>-12.782</td><td>37</td></tr><tr><td>1987</td><td>-12.795</td><td>37</td></tr><tr><td>1988</td><td>-13.26</td><td>37</td></tr><tr><td>1989</td><td>-13.343</td><td>37</td></tr><tr><td>1990</td><td>-13.687</td><td>37</td></tr><tr><td>1991</td><td>-14.255</td><td>37</td></tr><tr><td>1992</td><td>-14.501</td><td>36</td></tr><tr><td>1993</td><td>-14.695</td><td>37</td></tr><tr><td>1994</td><td>-15.276</td><td>37</td></tr><tr><td>1995</td><td>-15.486</td><td>37</td></tr><tr><td>1996</td><td>-15.89</td><td>37</td></tr><tr><td>1997</td><td>-16.487</td><td>37</td></tr><tr><td>1998</td><td>-17.31</td><td>37</td></tr><tr><td>1999</td><td>-17.697</td><td>37</td></tr><tr><td>2000</td><td>-17.727</td><td>37</td></tr><tr><td>2001</td><td>-18.032</td><td>37</td></tr><tr><td>2002</td><td>-18.726</td><td>37</td></tr><tr><td>2003</td><td>-19.984</td><td>37</td></tr><tr><td>2004</td><td>-20.703</td><td>37</td></tr><tr><td>2005</td><td>-21.405</td><td>37</td></tr><tr><td>2006</td><td>-22.595</td><td>37</td></tr><tr><td>2007</td><td>-23.255</td><td>37</td></tr><tr><td>2008</td><td>-23.776</td><td>37</td></tr><tr><td>2009</td><td>-24.459</td><td>37</td></tr><tr><td>2010</td><td>-25.158</td><td>37</td></tr><tr><td>2011</td><td>-26.294</td><td>37</td></tr><tr><td>2012</td><td>-26.93</td><td>36</td></tr><tr><td>2013</td><td>-27.817</td><td>31</td></tr><tr><td>2014</td><td>-28.652</td><td>24</td></tr></tbody></table></div>"
      ]
     },
     "metadata": {
      "application/vnd.databricks.v1+output": {
       "addedWidgets": {},
       "aggData": [],
       "aggError": "",
       "aggOverflow": false,
       "aggSchema": [],
       "aggSeriesLimitReached": false,
       "aggType": "",
       "arguments": {},
       "columnCustomDisplayInfos": {},
       "data": [
        [
         1945,
         0.0,
         null
        ],
        [
         1946,
         -1.13,
         1
        ],
        [
         1947,
         -3.19,
         1
        ],
        [
         1948,
         -3.19,
         1
        ],
        [
         1949,
         -3.82,
         3
        ],
        [
         1950,
         -4.887,
         3
        ],
        [
         1951,
         -5.217,
         3
        ],
        [
         1952,
         -5.707,
         3
        ],
        [
         1953,
         -6.341,
         7
        ],
        [
         1954,
         -6.825,
         6
        ],
        [
         1955,
         -6.575,
         7
        ],
        [
         1956,
         -6.814,
         7
        ],
        [
         1957,
         -6.989,
         9
        ],
        [
         1958,
         -7.693,
         9
        ],
        [
         1959,
         -8.325,
         11
        ],
        [
         1960,
         -8.688,
         14
        ],
        [
         1961,
         -8.935,
         15
        ],
        [
         1962,
         -9.109,
         20
        ],
        [
         1963,
         -9.567,
         22
        ],
        [
         1964,
         -9.699,
         22
        ],
        [
         1965,
         -9.298,
         24
        ],
        [
         1966,
         -9.436,
         27
        ],
        [
         1967,
         -9.303,
         29
        ],
        [
         1968,
         -9.219,
         31
        ],
        [
         1969,
         -9.732,
         31
        ],
        [
         1970,
         -10.128,
         32
        ],
        [
         1971,
         -10.288,
         32
        ],
        [
         1972,
         -10.441,
         32
        ],
        [
         1973,
         -10.538,
         32
        ],
        [
         1974,
         -10.613,
         32
        ],
        [
         1975,
         -10.534,
         33
        ],
        [
         1976,
         -10.633,
         35
        ],
        [
         1977,
         -10.682,
         37
        ],
        [
         1978,
         -10.754,
         37
        ],
        [
         1979,
         -11.127,
         37
        ],
        [
         1980,
         -11.318,
         36
        ],
        [
         1981,
         -11.394,
         35
        ],
        [
         1982,
         -11.849,
         36
        ],
        [
         1983,
         -11.846,
         37
        ],
        [
         1984,
         -11.902,
         37
        ],
        [
         1985,
         -12.238,
         37
        ],
        [
         1986,
         -12.782,
         37
        ],
        [
         1987,
         -12.795,
         37
        ],
        [
         1988,
         -13.26,
         37
        ],
        [
         1989,
         -13.343,
         37
        ],
        [
         1990,
         -13.687,
         37
        ],
        [
         1991,
         -14.255,
         37
        ],
        [
         1992,
         -14.501,
         36
        ],
        [
         1993,
         -14.695,
         37
        ],
        [
         1994,
         -15.276,
         37
        ],
        [
         1995,
         -15.486,
         37
        ],
        [
         1996,
         -15.89,
         37
        ],
        [
         1997,
         -16.487,
         37
        ],
        [
         1998,
         -17.31,
         37
        ],
        [
         1999,
         -17.697,
         37
        ],
        [
         2000,
         -17.727,
         37
        ],
        [
         2001,
         -18.032,
         37
        ],
        [
         2002,
         -18.726,
         37
        ],
        [
         2003,
         -19.984,
         37
        ],
        [
         2004,
         -20.703,
         37
        ],
        [
         2005,
         -21.405,
         37
        ],
        [
         2006,
         -22.595,
         37
        ],
        [
         2007,
         -23.255,
         37
        ],
        [
         2008,
         -23.776,
         37
        ],
        [
         2009,
         -24.459,
         37
        ],
        [
         2010,
         -25.158,
         37
        ],
        [
         2011,
         -26.294,
         37
        ],
        [
         2012,
         -26.93,
         36
        ],
        [
         2013,
         -27.817,
         31
        ],
        [
         2014,
         -28.652,
         24
        ]
       ],
       "datasetInfos": [],
       "dbfsResultPath": null,
       "isJsonSchema": true,
       "metadata": {},
       "overflow": false,
       "plotOptions": {
        "customPlotOptions": {},
        "displayType": "table",
        "pivotAggregation": null,
        "pivotColumns": null,
        "xColumns": null,
        "yColumns": null
       },
       "removedWidgets": [],
       "schema": [
        {
         "metadata": "{}",
         "name": "Year",
         "type": "\"integer\""
        },
        {
         "metadata": "{}",
         "name": "Mean cumulative mass balance",
         "type": "\"double\""
        },
        {
         "metadata": "{}",
         "name": "Number of observations",
         "type": "\"integer\""
        }
       ],
       "type": "table"
      }
     },
     "output_type": "display_data"
    }
   ],
   "source": [
    "display(df)"
   ]
  },
  {
   "cell_type": "code",
   "execution_count": 0,
   "metadata": {
    "application/vnd.databricks.v1+cell": {
     "cellMetadata": {
      "byteLimit": 2048000,
      "rowLimit": 10000
     },
     "inputWidgets": {},
     "nuid": "aa2bea3c-1811-477c-a668-c76dcb8cdace",
     "showTitle": false,
     "title": ""
    }
   },
   "outputs": [
    {
     "output_type": "stream",
     "name": "stdout",
     "output_type": "stream",
     "text": [
      "Out[3]: 70"
     ]
    }
   ],
   "source": [
    "df.count()"
   ]
  },
  {
   "cell_type": "code",
   "execution_count": 0,
   "metadata": {
    "application/vnd.databricks.v1+cell": {
     "cellMetadata": {
      "byteLimit": 2048000,
      "rowLimit": 10000
     },
     "inputWidgets": {},
     "nuid": "cb5a3ea4-7daf-4e96-8e9a-1654f3b4d092",
     "showTitle": false,
     "title": ""
    }
   },
   "outputs": [
    {
     "output_type": "stream",
     "name": "stdout",
     "output_type": "stream",
     "text": [
      "root\n |-- Year: integer (nullable = true)\n |-- Mean cumulative mass balance: double (nullable = true)\n |-- Number of observations: integer (nullable = true)\n\n"
     ]
    }
   ],
   "source": [
    "df.printSchema()"
   ]
  },
  {
   "cell_type": "code",
   "execution_count": 0,
   "metadata": {
    "application/vnd.databricks.v1+cell": {
     "cellMetadata": {
      "byteLimit": 2048000,
      "rowLimit": 10000
     },
     "inputWidgets": {},
     "nuid": "a60d25d5-ecf4-4742-a590-c4ff044e8570",
     "showTitle": false,
     "title": ""
    }
   },
   "outputs": [],
   "source": [
    "df.createOrReplaceTempView(\"glacier_view\")"
   ]
  },
  {
   "cell_type": "code",
   "execution_count": 0,
   "metadata": {
    "application/vnd.databricks.v1+cell": {
     "cellMetadata": {
      "byteLimit": 2048000,
      "rowLimit": 10000
     },
     "inputWidgets": {},
     "nuid": "1bca9bfc-78cc-49ca-8161-09ff22be2835",
     "showTitle": false,
     "title": ""
    }
   },
   "outputs": [
    {
     "output_type": "stream",
     "name": "stdout",
     "output_type": "stream",
     "text": [
      "+----+----------------------------+----------------------+\n|Year|Mean cumulative mass balance|Number of observations|\n+----+----------------------------+----------------------+\n|1945|                         0.0|                  null|\n|1946|                       -1.13|                     1|\n+----+----------------------------+----------------------+\nonly showing top 2 rows\n\n"
     ]
    }
   ],
   "source": [
    "resulted_view= spark.sql(\"select * from glacier_view\")\n",
    "resulted_view.show(2)"
   ]
  },
  {
   "cell_type": "code",
   "execution_count": 0,
   "metadata": {
    "application/vnd.databricks.v1+cell": {
     "cellMetadata": {
      "byteLimit": 2048000,
      "rowLimit": 10000
     },
     "inputWidgets": {},
     "nuid": "ca0fb512-9842-4084-b922-04a7387efa4c",
     "showTitle": false,
     "title": ""
    }
   },
   "outputs": [
    {
     "output_type": "display_data",
     "data": {
      "text/html": [
       "<style scoped>\n",
       "  .table-result-container {\n",
       "    max-height: 300px;\n",
       "    overflow: auto;\n",
       "  }\n",
       "  table, th, td {\n",
       "    border: 1px solid black;\n",
       "    border-collapse: collapse;\n",
       "  }\n",
       "  th, td {\n",
       "    padding: 5px;\n",
       "  }\n",
       "  th {\n",
       "    text-align: left;\n",
       "  }\n",
       "</style><div class='table-result-container'><table class='table-result'><thead style='background-color: white'><tr><th>Year</th><th>Mean cumulative mass balance</th><th>Number of observations</th></tr></thead><tbody><tr><td>1945</td><td>0.0</td><td>null</td></tr></tbody></table></div>"
      ]
     },
     "metadata": {
      "application/vnd.databricks.v1+output": {
       "addedWidgets": {},
       "aggData": [],
       "aggError": "",
       "aggOverflow": false,
       "aggSchema": [],
       "aggSeriesLimitReached": false,
       "aggType": "",
       "arguments": {},
       "columnCustomDisplayInfos": {},
       "data": [
        [
         1945,
         0.0,
         null
        ]
       ],
       "datasetInfos": [],
       "dbfsResultPath": null,
       "isJsonSchema": true,
       "metadata": {},
       "overflow": false,
       "plotOptions": {
        "customPlotOptions": {},
        "displayType": "table",
        "pivotAggregation": null,
        "pivotColumns": null,
        "xColumns": null,
        "yColumns": null
       },
       "removedWidgets": [],
       "schema": [
        {
         "metadata": "{}",
         "name": "Year",
         "type": "\"integer\""
        },
        {
         "metadata": "{}",
         "name": "Mean cumulative mass balance",
         "type": "\"double\""
        },
        {
         "metadata": "{}",
         "name": "Number of observations",
         "type": "\"integer\""
        }
       ],
       "type": "table"
      }
     },
     "output_type": "display_data"
    }
   ],
   "source": [
    "nintys_earliest = spark.sql(\"select * from glacier_view where Year like '19%' order by Year asc limit 1\")\n",
    "display(nintys_earliest)"
   ]
  },
  {
   "cell_type": "code",
   "execution_count": 0,
   "metadata": {
    "application/vnd.databricks.v1+cell": {
     "cellMetadata": {
      "byteLimit": 2048000,
      "rowLimit": 10000
     },
     "inputWidgets": {},
     "nuid": "a2a2b7f6-6d81-4de3-9790-5a098f6ec5c4",
     "showTitle": false,
     "title": ""
    }
   },
   "outputs": [
    {
     "output_type": "display_data",
     "data": {
      "text/html": [
       "<style scoped>\n",
       "  .table-result-container {\n",
       "    max-height: 300px;\n",
       "    overflow: auto;\n",
       "  }\n",
       "  table, th, td {\n",
       "    border: 1px solid black;\n",
       "    border-collapse: collapse;\n",
       "  }\n",
       "  th, td {\n",
       "    padding: 5px;\n",
       "  }\n",
       "  th {\n",
       "    text-align: left;\n",
       "  }\n",
       "</style><div class='table-result-container'><table class='table-result'><thead style='background-color: white'><tr><th>Year</th><th>Mean cumulative mass balance</th><th>Number of observations</th></tr></thead><tbody><tr><td>1999</td><td>-17.697</td><td>37</td></tr></tbody></table></div>"
      ]
     },
     "metadata": {
      "application/vnd.databricks.v1+output": {
       "addedWidgets": {},
       "aggData": [],
       "aggError": "",
       "aggOverflow": false,
       "aggSchema": [],
       "aggSeriesLimitReached": false,
       "aggType": "",
       "arguments": {},
       "columnCustomDisplayInfos": {},
       "data": [
        [
         1999,
         -17.697,
         37
        ]
       ],
       "datasetInfos": [],
       "dbfsResultPath": null,
       "isJsonSchema": true,
       "metadata": {},
       "overflow": false,
       "plotOptions": {
        "customPlotOptions": {},
        "displayType": "table",
        "pivotAggregation": null,
        "pivotColumns": null,
        "xColumns": null,
        "yColumns": null
       },
       "removedWidgets": [],
       "schema": [
        {
         "metadata": "{}",
         "name": "Year",
         "type": "\"integer\""
        },
        {
         "metadata": "{}",
         "name": "Mean cumulative mass balance",
         "type": "\"double\""
        },
        {
         "metadata": "{}",
         "name": "Number of observations",
         "type": "\"integer\""
        }
       ],
       "type": "table"
      }
     },
     "output_type": "display_data"
    }
   ],
   "source": [
    "nintys_latest =spark.sql(\"select * from glacier_view where Year like '19%' order by Year desc limit 1\")\n",
    "display(nintys_latest)"
   ]
  },
  {
   "cell_type": "code",
   "execution_count": 0,
   "metadata": {
    "application/vnd.databricks.v1+cell": {
     "cellMetadata": {
      "byteLimit": 2048000,
      "rowLimit": 10000
     },
     "inputWidgets": {},
     "nuid": "3d6d1dc7-8c4d-4a89-8e22-bf772fe6b27b",
     "showTitle": false,
     "title": ""
    }
   },
   "outputs": [
    {
     "output_type": "stream",
     "name": "stdout",
     "output_type": "stream",
     "text": [
      "+----+----------------------------+----------------------+\n|Year|Mean cumulative mass balance|Number of observations|\n+----+----------------------------+----------------------+\n|1945|                         0.0|                  null|\n|1999|                     -17.697|                    37|\n+----+----------------------------+----------------------+\n\n"
     ]
    }
   ],
   "source": [
    "nintys_final = nintys_earliest.union(nintys_latest)\n",
    "nintys_final.show()"
   ]
  },
  {
   "cell_type": "code",
   "execution_count": 0,
   "metadata": {
    "application/vnd.databricks.v1+cell": {
     "cellMetadata": {
      "byteLimit": 2048000,
      "rowLimit": 10000
     },
     "inputWidgets": {},
     "nuid": "992b0b8e-13ab-4c3e-9a7f-547199d91bf9",
     "showTitle": false,
     "title": ""
    }
   },
   "outputs": [],
   "source": [
    "twentys_ealiest = spark.sql(\"select * from glacier_view where Year like '20%' order by Year asc limit 1\")\n",
    "twentys_latest = spark.sql(\"select * from glacier_view where Year like '20%' order by Year desc limit 1\")"
   ]
  },
  {
   "cell_type": "code",
   "execution_count": 0,
   "metadata": {
    "application/vnd.databricks.v1+cell": {
     "cellMetadata": {
      "byteLimit": 2048000,
      "rowLimit": 10000
     },
     "inputWidgets": {},
     "nuid": "0f52a612-70e2-4254-89bf-faf1f1785bdd",
     "showTitle": false,
     "title": ""
    }
   },
   "outputs": [
    {
     "output_type": "stream",
     "name": "stdout",
     "output_type": "stream",
     "text": [
      "+----+----------------------------+----------------------+\n|Year|Mean cumulative mass balance|Number of observations|\n+----+----------------------------+----------------------+\n|2000|                     -17.727|                    37|\n+----+----------------------------+----------------------+\n\n"
     ]
    }
   ],
   "source": [
    "twentys_ealiest.show()"
   ]
  },
  {
   "cell_type": "code",
   "execution_count": 0,
   "metadata": {
    "application/vnd.databricks.v1+cell": {
     "cellMetadata": {
      "byteLimit": 2048000,
      "rowLimit": 10000
     },
     "inputWidgets": {},
     "nuid": "3169b2e2-0f8e-4441-9777-70095a4d026d",
     "showTitle": false,
     "title": ""
    }
   },
   "outputs": [
    {
     "output_type": "stream",
     "name": "stdout",
     "output_type": "stream",
     "text": [
      "+----+----------------------------+----------------------+\n|Year|Mean cumulative mass balance|Number of observations|\n+----+----------------------------+----------------------+\n|2014|                     -28.652|                    24|\n+----+----------------------------+----------------------+\n\n"
     ]
    }
   ],
   "source": [
    "twentys_latest.show()"
   ]
  },
  {
   "cell_type": "code",
   "execution_count": 0,
   "metadata": {
    "application/vnd.databricks.v1+cell": {
     "cellMetadata": {
      "byteLimit": 2048000,
      "rowLimit": 10000
     },
     "inputWidgets": {},
     "nuid": "a3dcf510-c932-452a-822a-f9be4ded8269",
     "showTitle": false,
     "title": ""
    }
   },
   "outputs": [
    {
     "output_type": "stream",
     "name": "stdout",
     "output_type": "stream",
     "text": [
      "+----+----------------------------+----------------------+\n|Year|Mean cumulative mass balance|Number of observations|\n+----+----------------------------+----------------------+\n|2000|                     -17.727|                    37|\n|2014|                     -28.652|                    24|\n+----+----------------------------+----------------------+\n\n"
     ]
    }
   ],
   "source": [
    "twentys_final = twentys_ealiest.union(twentys_latest)\n",
    "twentys_final.show()"
   ]
  },
  {
   "cell_type": "code",
   "execution_count": 0,
   "metadata": {
    "application/vnd.databricks.v1+cell": {
     "cellMetadata": {
      "byteLimit": 2048000,
      "rowLimit": 10000
     },
     "inputWidgets": {},
     "nuid": "0846619c-6b45-44da-905c-db79d4cfeec3",
     "showTitle": false,
     "title": ""
    }
   },
   "outputs": [],
   "source": [
    "glacier_result = nintys_final.unionAll(twentys_final)"
   ]
  },
  {
   "cell_type": "code",
   "execution_count": 0,
   "metadata": {
    "application/vnd.databricks.v1+cell": {
     "cellMetadata": {
      "byteLimit": 2048000,
      "rowLimit": 10000
     },
     "inputWidgets": {},
     "nuid": "232198c1-dde0-4ef2-8156-98d6247ff7fb",
     "showTitle": false,
     "title": ""
    }
   },
   "outputs": [
    {
     "output_type": "stream",
     "name": "stdout",
     "output_type": "stream",
     "text": [
      "+----+----------------------------+----------------------+\n|Year|Mean cumulative mass balance|Number of observations|\n+----+----------------------------+----------------------+\n|1945|                         0.0|                  null|\n|1999|                     -17.697|                    37|\n|2000|                     -17.727|                    37|\n|2014|                     -28.652|                    24|\n+----+----------------------------+----------------------+\n\n"
     ]
    }
   ],
   "source": [
    "glacier_result.show()"
   ]
  },
  {
   "cell_type": "code",
   "execution_count": 0,
   "metadata": {
    "application/vnd.databricks.v1+cell": {
     "cellMetadata": {},
     "inputWidgets": {},
     "nuid": "d37ae228-e995-41a2-9435-24e881ecaf6a",
     "showTitle": false,
     "title": ""
    }
   },
   "outputs": [],
   "source": []
  }
 ],
 "metadata": {
  "application/vnd.databricks.v1+notebook": {
   "dashboards": [],
   "environmentMetadata": null,
   "language": "python",
   "notebookMetadata": {
    "pythonIndentUnit": 4
   },
   "notebookName": "Galcier Project",
   "widgets": {}
  }
 },
 "nbformat": 4,
 "nbformat_minor": 0
}
